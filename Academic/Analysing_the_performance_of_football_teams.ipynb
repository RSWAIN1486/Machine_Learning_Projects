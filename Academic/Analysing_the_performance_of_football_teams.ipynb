{
 "cells": [
  {
   "cell_type": "code",
   "execution_count": 19,
   "metadata": {},
   "outputs": [],
   "source": [
    "import pandas as pd\n",
    "import numpy  as np\n",
    "import seaborn as sns"
   ]
  },
  {
   "cell_type": "markdown",
   "metadata": {},
   "source": [
    "### Problem 1 - Read the data set and replace dashes with 0"
   ]
  },
  {
   "cell_type": "code",
   "execution_count": 20,
   "metadata": {},
   "outputs": [
    {
     "data": {
      "text/html": [
       "<div>\n",
       "<style scoped>\n",
       "    .dataframe tbody tr th:only-of-type {\n",
       "        vertical-align: middle;\n",
       "    }\n",
       "\n",
       "    .dataframe tbody tr th {\n",
       "        vertical-align: top;\n",
       "    }\n",
       "\n",
       "    .dataframe thead th {\n",
       "        text-align: right;\n",
       "    }\n",
       "</style>\n",
       "<table border=\"1\" class=\"dataframe\">\n",
       "  <thead>\n",
       "    <tr style=\"text-align: right;\">\n",
       "      <th></th>\n",
       "      <th>Pos</th>\n",
       "      <th>Team</th>\n",
       "      <th>Seasons</th>\n",
       "      <th>Points</th>\n",
       "      <th>GamesPlayed</th>\n",
       "      <th>GamesWon</th>\n",
       "      <th>GamesDrawn</th>\n",
       "      <th>GamesLost</th>\n",
       "      <th>GoalsFor</th>\n",
       "      <th>GoalsAgainst</th>\n",
       "      <th>Champion</th>\n",
       "      <th>Runner-up</th>\n",
       "      <th>Third</th>\n",
       "      <th>Fourth</th>\n",
       "      <th>Fifth</th>\n",
       "      <th>Sixth</th>\n",
       "      <th>T</th>\n",
       "      <th>Debut</th>\n",
       "      <th>Since/LastApp</th>\n",
       "      <th>BestPosition</th>\n",
       "    </tr>\n",
       "  </thead>\n",
       "  <tbody>\n",
       "    <tr>\n",
       "      <th>0</th>\n",
       "      <td>1</td>\n",
       "      <td>Real Madrid</td>\n",
       "      <td>86</td>\n",
       "      <td>4385</td>\n",
       "      <td>2762</td>\n",
       "      <td>1647</td>\n",
       "      <td>552</td>\n",
       "      <td>563</td>\n",
       "      <td>5947</td>\n",
       "      <td>3140</td>\n",
       "      <td>33</td>\n",
       "      <td>23</td>\n",
       "      <td>8</td>\n",
       "      <td>8</td>\n",
       "      <td>3</td>\n",
       "      <td>4</td>\n",
       "      <td>79</td>\n",
       "      <td>1929</td>\n",
       "      <td>1929</td>\n",
       "      <td>1</td>\n",
       "    </tr>\n",
       "    <tr>\n",
       "      <th>1</th>\n",
       "      <td>2</td>\n",
       "      <td>Barcelona</td>\n",
       "      <td>86</td>\n",
       "      <td>4262</td>\n",
       "      <td>2762</td>\n",
       "      <td>1581</td>\n",
       "      <td>573</td>\n",
       "      <td>608</td>\n",
       "      <td>5900</td>\n",
       "      <td>3114</td>\n",
       "      <td>25</td>\n",
       "      <td>25</td>\n",
       "      <td>12</td>\n",
       "      <td>12</td>\n",
       "      <td>4</td>\n",
       "      <td>6</td>\n",
       "      <td>83</td>\n",
       "      <td>1929</td>\n",
       "      <td>1929</td>\n",
       "      <td>1</td>\n",
       "    </tr>\n",
       "    <tr>\n",
       "      <th>2</th>\n",
       "      <td>3</td>\n",
       "      <td>Atletico Madrid</td>\n",
       "      <td>80</td>\n",
       "      <td>3442</td>\n",
       "      <td>2614</td>\n",
       "      <td>1241</td>\n",
       "      <td>598</td>\n",
       "      <td>775</td>\n",
       "      <td>4534</td>\n",
       "      <td>3309</td>\n",
       "      <td>10</td>\n",
       "      <td>8</td>\n",
       "      <td>16</td>\n",
       "      <td>9</td>\n",
       "      <td>7</td>\n",
       "      <td>6</td>\n",
       "      <td>56</td>\n",
       "      <td>1929</td>\n",
       "      <td>2002-03</td>\n",
       "      <td>1</td>\n",
       "    </tr>\n",
       "    <tr>\n",
       "      <th>3</th>\n",
       "      <td>4</td>\n",
       "      <td>Valencia</td>\n",
       "      <td>82</td>\n",
       "      <td>3386</td>\n",
       "      <td>2664</td>\n",
       "      <td>1187</td>\n",
       "      <td>616</td>\n",
       "      <td>861</td>\n",
       "      <td>4398</td>\n",
       "      <td>3469</td>\n",
       "      <td>6</td>\n",
       "      <td>6</td>\n",
       "      <td>10</td>\n",
       "      <td>11</td>\n",
       "      <td>10</td>\n",
       "      <td>7</td>\n",
       "      <td>50</td>\n",
       "      <td>1931-32</td>\n",
       "      <td>1987-88</td>\n",
       "      <td>1</td>\n",
       "    </tr>\n",
       "    <tr>\n",
       "      <th>4</th>\n",
       "      <td>5</td>\n",
       "      <td>Athletic Bilbao</td>\n",
       "      <td>86</td>\n",
       "      <td>3368</td>\n",
       "      <td>2762</td>\n",
       "      <td>1209</td>\n",
       "      <td>633</td>\n",
       "      <td>920</td>\n",
       "      <td>4631</td>\n",
       "      <td>3700</td>\n",
       "      <td>8</td>\n",
       "      <td>7</td>\n",
       "      <td>10</td>\n",
       "      <td>5</td>\n",
       "      <td>8</td>\n",
       "      <td>10</td>\n",
       "      <td>49</td>\n",
       "      <td>1929</td>\n",
       "      <td>1929</td>\n",
       "      <td>1</td>\n",
       "    </tr>\n",
       "  </tbody>\n",
       "</table>\n",
       "</div>"
      ],
      "text/plain": [
       "   Pos             Team  Seasons Points GamesPlayed GamesWon GamesDrawn  \\\n",
       "0    1      Real Madrid       86   4385        2762     1647        552   \n",
       "1    2        Barcelona       86   4262        2762     1581        573   \n",
       "2    3  Atletico Madrid       80   3442        2614     1241        598   \n",
       "3    4         Valencia       82   3386        2664     1187        616   \n",
       "4    5  Athletic Bilbao       86   3368        2762     1209        633   \n",
       "\n",
       "  GamesLost GoalsFor GoalsAgainst Champion Runner-up Third Fourth Fifth Sixth  \\\n",
       "0       563     5947         3140       33        23     8      8     3     4   \n",
       "1       608     5900         3114       25        25    12     12     4     6   \n",
       "2       775     4534         3309       10         8    16      9     7     6   \n",
       "3       861     4398         3469        6         6    10     11    10     7   \n",
       "4       920     4631         3700        8         7    10      5     8    10   \n",
       "\n",
       "    T    Debut Since/LastApp  BestPosition  \n",
       "0  79     1929          1929             1  \n",
       "1  83     1929          1929             1  \n",
       "2  56     1929       2002-03             1  \n",
       "3  50  1931-32       1987-88             1  \n",
       "4  49     1929          1929             1  "
      ]
     },
     "execution_count": 20,
     "metadata": {},
     "output_type": "execute_result"
    }
   ],
   "source": [
    "# Reading the laliga file into dataframe \"laliga\"\n",
    "laliga = pd.read_csv(\"laliga.csv\")\n",
    "laliga.head()"
   ]
  },
  {
   "cell_type": "code",
   "execution_count": 21,
   "metadata": {},
   "outputs": [
    {
     "data": {
      "text/plain": [
       "Pos                     7\n",
       "Team             Espanyol\n",
       "Seasons                82\n",
       "Points               2792\n",
       "GamesPlayed          2626\n",
       "GamesWon              948\n",
       "GamesDrawn            608\n",
       "GamesLost            1070\n",
       "GoalsFor             3609\n",
       "GoalsAgainst         3889\n",
       "Champion                -\n",
       "Runner-up               -\n",
       "Third                   4\n",
       "Fourth                  5\n",
       "Fifth                   2\n",
       "Sixth                   5\n",
       "T                      16\n",
       "Debut                1929\n",
       "Since/LastApp     1994-95\n",
       "BestPosition            3\n",
       "Name: 6, dtype: object"
      ]
     },
     "execution_count": 21,
     "metadata": {},
     "output_type": "execute_result"
    }
   ],
   "source": [
    "# Printing a row with dashes\n",
    "laliga.iloc[6]"
   ]
  },
  {
   "cell_type": "code",
   "execution_count": 22,
   "metadata": {},
   "outputs": [
    {
     "data": {
      "text/plain": [
       "Pos                     7\n",
       "Team             Espanyol\n",
       "Seasons                82\n",
       "Points               2792\n",
       "GamesPlayed          2626\n",
       "GamesWon              948\n",
       "GamesDrawn            608\n",
       "GamesLost            1070\n",
       "GoalsFor             3609\n",
       "GoalsAgainst         3889\n",
       "Champion                0\n",
       "Runner-up               0\n",
       "Third                   4\n",
       "Fourth                  5\n",
       "Fifth                   2\n",
       "Sixth                   5\n",
       "T                      16\n",
       "Debut                1929\n",
       "Since/LastApp     1994-95\n",
       "BestPosition            3\n",
       "Name: 6, dtype: object"
      ]
     },
     "execution_count": 22,
     "metadata": {},
     "output_type": "execute_result"
    }
   ],
   "source": [
    "# Replace \"-\" with 0 and check\n",
    "laliga.replace(to_replace=\"-\", value=0, inplace=True)\n",
    "laliga.iloc[6]"
   ]
  },
  {
   "cell_type": "markdown",
   "metadata": {},
   "source": [
    "### Problem 2 - Print all the teams who made their debut between 1930-1980"
   ]
  },
  {
   "cell_type": "code",
   "execution_count": 23,
   "metadata": {},
   "outputs": [
    {
     "data": {
      "text/plain": [
       "0    1929\n",
       "1    1929\n",
       "2    1929\n",
       "3    1931\n",
       "4    1929\n",
       "Name: Debut_Year, dtype: int32"
      ]
     },
     "execution_count": 23,
     "metadata": {},
     "output_type": "execute_result"
    }
   ],
   "source": [
    "#Create a new column Debut_Year that has debut column type casted into int for the first four digits\n",
    "\n",
    "laliga['Debut_Year'] = laliga['Debut'].astype(str).str[:4].astype(int)\n",
    "laliga['Debut_Year'].head()"
   ]
  },
  {
   "cell_type": "code",
   "execution_count": 24,
   "metadata": {},
   "outputs": [
    {
     "name": "stdout",
     "output_type": "stream",
     "text": [
      "                   Team    Debut\n",
      "28               Alaves  1930-31\n",
      "3              Valencia  1931-32\n",
      "9            Real Betis  1932-33\n",
      "17               Oviedo  1933-34\n",
      "5               Sevilla  1934-35\n",
      "25             Hercules  1935-36\n",
      "15              Osasuna  1935-36\n",
      "8              Zaragoza  1939-40\n",
      "11           Celta Vigo  1939-40\n",
      "27               Murcia  1940-41\n",
      "21              Granada  1941-42\n",
      "10  Deportivo La Coruna  1941-42\n",
      "34            Castellon  1941-42\n",
      "31             Sabadell  1943-44\n",
      "14       Sporting Gijon  1944-45\n",
      "49             Alcoyano  1945-46\n",
      "46            Gimnastic  1947-48\n",
      "12           Valladolid  1948-49\n",
      "16               Malaga  1949-50\n",
      "54               Lleida  1950-51\n",
      "19           Las Palmas  1951-52\n",
      "58      Atletico Tetuan  1951-52\n",
      "50                 Jaen  1953-54\n",
      "59     Cultural Leonesa  1955-56\n",
      "57               Condal  1956-57\n",
      "23                Elche  1959-60\n",
      "18             Mallorca  1960-61\n",
      "26             Tenerife  1961-62\n",
      "37              Cordoba  1962-63\n",
      "29              Levante  1963-64\n",
      "41           Pontevedra  1963-64\n",
      "40            Burgos CF  1971-72\n",
      "30            Salamanca  1974-75\n",
      "22       Rayo Vallecano  1977-78\n",
      "32                Cadiz  1977-78\n",
      "39           Recreativo  1978-79\n",
      "52           AD Almeria  1979-80\n"
     ]
    }
   ],
   "source": [
    "# Printing all teams who debuted between 1930-80 and sorted them in ascending order\n",
    "print(laliga[laliga[\"Debut_Year\"].between(1930, 1980)].sort_values(by=[\"Debut_Year\"], axis=0, ascending=True)[[\"Team\", \"Debut\"]])"
   ]
  },
  {
   "cell_type": "markdown",
   "metadata": {},
   "source": [
    "### Problem 3 - Print the list of teams which came Top 5 in terms of points"
   ]
  },
  {
   "cell_type": "code",
   "execution_count": 25,
   "metadata": {},
   "outputs": [
    {
     "data": {
      "text/plain": [
       "dtype('O')"
      ]
     },
     "execution_count": 25,
     "metadata": {},
     "output_type": "execute_result"
    }
   ],
   "source": [
    "# Check datatype of Points column\n",
    "laliga.dtypes[\"Points\"]"
   ]
  },
  {
   "cell_type": "code",
   "execution_count": 26,
   "metadata": {
    "scrolled": true
   },
   "outputs": [
    {
     "name": "stdout",
     "output_type": "stream",
     "text": [
      "              Team  Points\n",
      "0      Real Madrid    4385\n",
      "1        Barcelona    4262\n",
      "2  Atletico Madrid    3442\n",
      "3         Valencia    3386\n",
      "4  Athletic Bilbao    3368\n"
     ]
    }
   ],
   "source": [
    "# Convert to numeric and sort for Points column\n",
    "laliga['Points'] = pd.to_numeric(laliga['Points'], errors='coerce')\n",
    "laliga_sort = laliga.sort_values(by=[\"Points\"], ascending=False)\n",
    "print(laliga_sort[[\"Team\",\"Points\"]].head(5))"
   ]
  },
  {
   "cell_type": "markdown",
   "metadata": {},
   "source": [
    "### Problem 4 - Write a function with name “Goal_diff_count” which should return all the teams with their Goal Differences.  Using the same function, find the team which has maximum and minimum goal difference. "
   ]
  },
  {
   "cell_type": "code",
   "execution_count": 27,
   "metadata": {},
   "outputs": [
    {
     "data": {
      "text/plain": [
       "GoalsFor        object\n",
       "GoalsAgainst    object\n",
       "dtype: object"
      ]
     },
     "execution_count": 27,
     "metadata": {},
     "output_type": "execute_result"
    }
   ],
   "source": [
    "# Check the datatypes for GoalsFor and GoalsAgainst columns\n",
    "laliga.dtypes[[\"GoalsFor\", \"GoalsAgainst\"]]"
   ]
  },
  {
   "cell_type": "code",
   "execution_count": 28,
   "metadata": {},
   "outputs": [
    {
     "data": {
      "text/plain": [
       "GoalsFor        int64\n",
       "GoalsAgainst    int64\n",
       "dtype: object"
      ]
     },
     "execution_count": 28,
     "metadata": {},
     "output_type": "execute_result"
    }
   ],
   "source": [
    "# Convert them to Numeric\n",
    "laliga[\"GoalsFor\"] = pd.to_numeric(laliga[\"GoalsFor\"], errors=\"coerce\")\n",
    "laliga[\"GoalsAgainst\"] = pd.to_numeric(laliga[ \"GoalsAgainst\"], errors=\"coerce\")\n",
    "laliga.dtypes[[\"GoalsFor\", \"GoalsAgainst\"]]"
   ]
  },
  {
   "cell_type": "code",
   "execution_count": 29,
   "metadata": {},
   "outputs": [],
   "source": [
    "# Define function that returns teams with goal difference. Print teams with highest and lowest goal difference\n",
    "def Goal_diff_count():\n",
    "    laliga[\"Goal_Diff\"] = laliga[\"GoalsFor\"] - laliga[\"GoalsAgainst\"]\n",
    "    laliga_Team_Goal_Diff = laliga[[\"Team\", \"Goal_Diff\"]]\n",
    "    print(\"Team with Highest Goal Difference\")\n",
    "    print(laliga_Team_Goal_Diff.iloc[laliga_Team_Goal_Diff[\"Goal_Diff\"].idxmax(axis=0)])\n",
    "    print('')\n",
    "    print(\"Team with Lowest Goal Difference\")\n",
    "    print(laliga_Team_Goal_Diff.iloc[laliga_Team_Goal_Diff[\"Goal_Diff\"].idxmin(axis=0)])\n",
    "    return laliga_Team_Goal_Diff\n"
   ]
  },
  {
   "cell_type": "code",
   "execution_count": 30,
   "metadata": {},
   "outputs": [
    {
     "name": "stdout",
     "output_type": "stream",
     "text": [
      "Team with Highest Goal Difference\n",
      "Team         Real Madrid\n",
      "Goal_Diff           2807\n",
      "Name: 0, dtype: object\n",
      "\n",
      "Team with Lowest Goal Difference\n",
      "Team         Racing Santander\n",
      "Goal_Diff                -525\n",
      "Name: 13, dtype: object\n"
     ]
    }
   ],
   "source": [
    "laliga_Team_Goal_Diff = Goal_diff_count()"
   ]
  },
  {
   "cell_type": "code",
   "execution_count": 31,
   "metadata": {},
   "outputs": [
    {
     "data": {
      "text/html": [
       "<div>\n",
       "<style scoped>\n",
       "    .dataframe tbody tr th:only-of-type {\n",
       "        vertical-align: middle;\n",
       "    }\n",
       "\n",
       "    .dataframe tbody tr th {\n",
       "        vertical-align: top;\n",
       "    }\n",
       "\n",
       "    .dataframe thead th {\n",
       "        text-align: right;\n",
       "    }\n",
       "</style>\n",
       "<table border=\"1\" class=\"dataframe\">\n",
       "  <thead>\n",
       "    <tr style=\"text-align: right;\">\n",
       "      <th></th>\n",
       "      <th>Team</th>\n",
       "      <th>Goal_Diff</th>\n",
       "    </tr>\n",
       "  </thead>\n",
       "  <tbody>\n",
       "    <tr>\n",
       "      <th>0</th>\n",
       "      <td>Real Madrid</td>\n",
       "      <td>2807</td>\n",
       "    </tr>\n",
       "    <tr>\n",
       "      <th>1</th>\n",
       "      <td>Barcelona</td>\n",
       "      <td>2786</td>\n",
       "    </tr>\n",
       "    <tr>\n",
       "      <th>2</th>\n",
       "      <td>Atletico Madrid</td>\n",
       "      <td>1225</td>\n",
       "    </tr>\n",
       "    <tr>\n",
       "      <th>3</th>\n",
       "      <td>Valencia</td>\n",
       "      <td>929</td>\n",
       "    </tr>\n",
       "    <tr>\n",
       "      <th>4</th>\n",
       "      <td>Athletic Bilbao</td>\n",
       "      <td>931</td>\n",
       "    </tr>\n",
       "    <tr>\n",
       "      <th>5</th>\n",
       "      <td>Sevilla</td>\n",
       "      <td>307</td>\n",
       "    </tr>\n",
       "    <tr>\n",
       "      <th>6</th>\n",
       "      <td>Espanyol</td>\n",
       "      <td>-280</td>\n",
       "    </tr>\n",
       "    <tr>\n",
       "      <th>7</th>\n",
       "      <td>Real Sociedad</td>\n",
       "      <td>-2</td>\n",
       "    </tr>\n",
       "    <tr>\n",
       "      <th>8</th>\n",
       "      <td>Zaragoza</td>\n",
       "      <td>-164</td>\n",
       "    </tr>\n",
       "    <tr>\n",
       "      <th>9</th>\n",
       "      <td>Real Betis</td>\n",
       "      <td>-333</td>\n",
       "    </tr>\n",
       "  </tbody>\n",
       "</table>\n",
       "</div>"
      ],
      "text/plain": [
       "              Team  Goal_Diff\n",
       "0      Real Madrid       2807\n",
       "1        Barcelona       2786\n",
       "2  Atletico Madrid       1225\n",
       "3         Valencia        929\n",
       "4  Athletic Bilbao        931\n",
       "5          Sevilla        307\n",
       "6         Espanyol       -280\n",
       "7    Real Sociedad         -2\n",
       "8         Zaragoza       -164\n",
       "9       Real Betis       -333"
      ]
     },
     "execution_count": 31,
     "metadata": {},
     "output_type": "execute_result"
    }
   ],
   "source": [
    "laliga_Team_Goal_Diff.head(10)"
   ]
  },
  {
   "cell_type": "markdown",
   "metadata": {},
   "source": [
    "### Problem 4 - Create a new column with the name “Winning Percent” and append it to the data set"
   ]
  },
  {
   "cell_type": "code",
   "execution_count": 32,
   "metadata": {},
   "outputs": [
    {
     "data": {
      "text/plain": [
       "GamesWon       object\n",
       "GamesPlayed    object\n",
       "dtype: object"
      ]
     },
     "execution_count": 32,
     "metadata": {},
     "output_type": "execute_result"
    }
   ],
   "source": [
    "# Check the datatypes for GamesWon and GoalsAGamesPlayed\n",
    "laliga.dtypes[[\"GamesWon\", \"GamesPlayed\"]]"
   ]
  },
  {
   "cell_type": "code",
   "execution_count": 33,
   "metadata": {},
   "outputs": [
    {
     "data": {
      "text/plain": [
       "GamesWon       int64\n",
       "GamesPlayed    int64\n",
       "dtype: object"
      ]
     },
     "execution_count": 33,
     "metadata": {},
     "output_type": "execute_result"
    }
   ],
   "source": [
    "# Convert them to Numeric\n",
    "laliga[\"GamesWon\"] = pd.to_numeric(laliga[\"GamesWon\"], errors=\"coerce\")\n",
    "laliga[\"GamesPlayed\"] = pd.to_numeric(laliga[ \"GamesPlayed\"], errors=\"coerce\")\n",
    "laliga.dtypes[[\"GamesWon\", \"GamesPlayed\"]]"
   ]
  },
  {
   "cell_type": "code",
   "execution_count": 34,
   "metadata": {},
   "outputs": [],
   "source": [
    "# Calculate Winning Percent, round it off to zero decimals and fill NaN with 0\n",
    "laliga[\"Winning Percent\"] = ((laliga[\"GamesWon\"]/laliga[\"GamesPlayed\"])*100).round(decimals=0)\n",
    "laliga[\"Winning Percent\"].fillna(0, inplace=True)"
   ]
  },
  {
   "cell_type": "code",
   "execution_count": 35,
   "metadata": {},
   "outputs": [
    {
     "data": {
      "text/html": [
       "<div>\n",
       "<style scoped>\n",
       "    .dataframe tbody tr th:only-of-type {\n",
       "        vertical-align: middle;\n",
       "    }\n",
       "\n",
       "    .dataframe tbody tr th {\n",
       "        vertical-align: top;\n",
       "    }\n",
       "\n",
       "    .dataframe thead th {\n",
       "        text-align: right;\n",
       "    }\n",
       "</style>\n",
       "<table border=\"1\" class=\"dataframe\">\n",
       "  <thead>\n",
       "    <tr style=\"text-align: right;\">\n",
       "      <th></th>\n",
       "      <th>Team</th>\n",
       "      <th>Winning Percent</th>\n",
       "    </tr>\n",
       "  </thead>\n",
       "  <tbody>\n",
       "    <tr>\n",
       "      <th>0</th>\n",
       "      <td>Real Madrid</td>\n",
       "      <td>60.0</td>\n",
       "    </tr>\n",
       "    <tr>\n",
       "      <th>1</th>\n",
       "      <td>Barcelona</td>\n",
       "      <td>57.0</td>\n",
       "    </tr>\n",
       "    <tr>\n",
       "      <th>2</th>\n",
       "      <td>Atletico Madrid</td>\n",
       "      <td>47.0</td>\n",
       "    </tr>\n",
       "    <tr>\n",
       "      <th>3</th>\n",
       "      <td>Valencia</td>\n",
       "      <td>45.0</td>\n",
       "    </tr>\n",
       "    <tr>\n",
       "      <th>4</th>\n",
       "      <td>Athletic Bilbao</td>\n",
       "      <td>44.0</td>\n",
       "    </tr>\n",
       "  </tbody>\n",
       "</table>\n",
       "</div>"
      ],
      "text/plain": [
       "              Team  Winning Percent\n",
       "0      Real Madrid             60.0\n",
       "1        Barcelona             57.0\n",
       "2  Atletico Madrid             47.0\n",
       "3         Valencia             45.0\n",
       "4  Athletic Bilbao             44.0"
      ]
     },
     "execution_count": 35,
     "metadata": {},
     "output_type": "execute_result"
    }
   ],
   "source": [
    "# Print top 5 teams with highest percentage\n",
    "laliga[[\"Team\",\"Winning Percent\"]].sort_values(by=[\"Winning Percent\"], ascending=False).head(5)"
   ]
  },
  {
   "cell_type": "markdown",
   "metadata": {},
   "source": [
    "### Problem 5 - Group teams based on their “Best position” and print the sum of their points for all positions"
   ]
  },
  {
   "cell_type": "code",
   "execution_count": 36,
   "metadata": {},
   "outputs": [
    {
     "data": {
      "text/plain": [
       "BestPosition\n",
       "1    27933\n",
       "2     6904\n",
       "3     5221\n",
       "4     6563\n",
       "5     1884\n",
       "Name: Points, dtype: int64"
      ]
     },
     "execution_count": 36,
     "metadata": {},
     "output_type": "execute_result"
    }
   ],
   "source": [
    "# Group by BestPosition and print sum of points for each position\n",
    "grouped = laliga.groupby(['BestPosition'])['Points'].sum()\n",
    "grouped.head()"
   ]
  },
  {
   "cell_type": "code",
   "execution_count": null,
   "metadata": {},
   "outputs": [],
   "source": []
  }
 ],
 "metadata": {
  "kernelspec": {
   "display_name": "Python 3",
   "language": "python",
   "name": "python3"
  },
  "language_info": {
   "codemirror_mode": {
    "name": "ipython",
    "version": 3
   },
   "file_extension": ".py",
   "mimetype": "text/x-python",
   "name": "python",
   "nbconvert_exporter": "python",
   "pygments_lexer": "ipython3",
   "version": "3.7.3"
  }
 },
 "nbformat": 4,
 "nbformat_minor": 2
}
